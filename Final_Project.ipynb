{
  "nbformat": 4,
  "nbformat_minor": 0,
  "metadata": {
    "colab": {
      "provenance": []
    },
    "kernelspec": {
      "name": "python3",
      "display_name": "Python 3"
    },
    "language_info": {
      "name": "python"
    }
  },
  "cells": [
    {
      "cell_type": "code",
      "source": [
        "# 필요 패키지 설치\n",
        "! pip install xmltodict"
      ],
      "metadata": {
        "colab": {
          "base_uri": "https://localhost:8080/"
        },
        "id": "neuRRftc-qh0",
        "outputId": "658aad66-7635-4aeb-b804-961e01e68e45"
      },
      "execution_count": 2,
      "outputs": [
        {
          "output_type": "stream",
          "name": "stdout",
          "text": [
            "Looking in indexes: https://pypi.org/simple, https://us-python.pkg.dev/colab-wheels/public/simple/\n",
            "Collecting xmltodict\n",
            "  Downloading xmltodict-0.13.0-py2.py3-none-any.whl (10.0 kB)\n",
            "Installing collected packages: xmltodict\n",
            "Successfully installed xmltodict-0.13.0\n"
          ]
        }
      ]
    },
    {
      "cell_type": "code",
      "source": [
        "# 폰트 설치\n",
        "import matplotlib.font_manager as fm\n",
        "\n",
        "!apt-get -qq -y install fonts-nanum > /dev/null\n",
        "fontpath = '/usr/share/fonts/truetype/nanum/NanumBarunGothic.ttf'\n",
        "font = fm.FontProperties(fname=fontpath, size=9)\n",
        "fm._rebuild()"
      ],
      "metadata": {
        "id": "bNtFaoOQpbO9"
      },
      "execution_count": 3,
      "outputs": []
    },
    {
      "cell_type": "code",
      "source": [
        "# 한글 폰트 설정\n",
        "import matplotlib.pyplot as plt\n",
        "import matplotlib.font_manager as fm\n",
        "\t\n",
        "# 한글 폰트 설정\n",
        "path = '/usr/share/fonts/truetype/nanum/NanumGothicBold.ttf'\n",
        "font_name = fm.FontProperties(fname=path, size=18).get_name()\n",
        "plt.rc('font', family=font_name)\n",
        "fm._rebuild()"
      ],
      "metadata": {
        "id": "jUTnenw2pgwy"
      },
      "execution_count": 15,
      "outputs": []
    },
    {
      "cell_type": "code",
      "source": [
        "# 런타임 재시작\n",
        "import os\n",
        "os.kill(os.getpid(), 9)"
      ],
      "metadata": {
        "id": "OXIEDg2PpdzO"
      },
      "execution_count": null,
      "outputs": []
    },
    {
      "cell_type": "markdown",
      "source": [
        "**법정동 코드 데이터**"
      ],
      "metadata": {
        "id": "4Ha4CHLcga0d"
      }
    },
    {
      "cell_type": "code",
      "source": [
        "import os\n",
        "import sys\n",
        "import urllib.request\n",
        "import xmltodict\n",
        "import datetime\n",
        "import time\n",
        "import json\n",
        "import pandas as pd\n",
        "import ssl\n",
        "import folium\n",
        "import seaborn as sns\n",
        "import matplotlib.pyplot as plt\n",
        "\n",
        "ssl._create_default_https_context = ssl._create_unverified_context\n",
        "\n",
        "ServiceKey=\"5wUibcgyMHJ%2FNqYkVWaxunMQSIZ6tONQ8EJ55I47cV86EUNASc5g3X9dF1Bzr5SqqfprwYvMEnhnHlZ8hwpctQ%3D%3D\"\n",
        "\n",
        "df_area = pd.read_excel(io='/content/drive/MyDrive/Colab Notebooks/법정동코드.xlsx', header=None, names=['zcode','zcode_name','zscode','zscode_name'])\n",
        "\n",
        "print(df_area)"
      ],
      "metadata": {
        "colab": {
          "base_uri": "https://localhost:8080/"
        },
        "id": "0DPjToUvgVrn",
        "outputId": "55f6333d-f092-47ea-9f8b-a262056d0ed4"
      },
      "execution_count": 1,
      "outputs": [
        {
          "output_type": "stream",
          "name": "stdout",
          "text": [
            "     zcode zcode_name  zscode zscode_name\n",
            "0       11      서울특별시   11110         종로구\n",
            "1       11      서울특별시   11140          중구\n",
            "2       11      서울특별시   11170         용산구\n",
            "3       11      서울특별시   11200         성동구\n",
            "4       11      서울특별시   11215         광진구\n",
            "..     ...        ...     ...         ...\n",
            "224     48       경상남도   48870         함양군\n",
            "225     48       경상남도   48880         거창군\n",
            "226     48       경상남도   48890         합천군\n",
            "227     50        제주도   50110         제주시\n",
            "228     50        제주도   50130        서귀포시\n",
            "\n",
            "[229 rows x 4 columns]\n"
          ]
        }
      ]
    },
    {
      "cell_type": "markdown",
      "source": [
        "**API를 통해 특정 지역 데이터 가져오는 함수**"
      ],
      "metadata": {
        "id": "2KnlFRA-g_qH"
      }
    },
    {
      "cell_type": "code",
      "source": [
        "def getData(zcode, zscode):\n",
        "  total_data = []\n",
        "  service_url = 'https://apis.data.go.kr/B552584/EvCharger/getChargerInfo'\n",
        "  parameters = '?serviceKey=' + ServiceKey   #인증키\n",
        "  parameters += '&pageNo=1&numOfRows=9999&zcode=' + zcode\n",
        "  parameters += '&zscode=' + zscode\n",
        "  url = service_url + parameters\n",
        "\n",
        "  response = urllib.request.urlopen(url)\n",
        "  results = response.read().decode('utf-8')\n",
        "  results_to_json = xmltodict.parse(results)\n",
        "  data = json.loads(json.dumps(results_to_json))\n",
        "  total_data.extend(data['response']['body']['items']['item'])\n",
        "\n",
        "  df_total_temp = pd.DataFrame(total_data)\n",
        "  df_total = df_total_temp\n",
        "\n",
        "  return df_total"
      ],
      "metadata": {
        "id": "PfUSOM3Wg-3g"
      },
      "execution_count": 12,
      "outputs": []
    },
    {
      "cell_type": "markdown",
      "source": [
        "**전국 분포 현황 출력을 위한 전국 데이터 가져오는 함수**"
      ],
      "metadata": {
        "id": "zADcLOWohkC7"
      }
    },
    {
      "cell_type": "code",
      "source": [
        "def getTotalData():\n",
        "  total_data = []\n",
        "  area_array_temp = df_area.drop_duplicates(['zcode'])\n",
        "  area_array = list(map(str, area_array_temp['zcode'].to_numpy()))\n",
        "\n",
        "  for z in area_array:\n",
        "    service_url = 'https://apis.data.go.kr/B552584/EvCharger/getChargerInfo'\n",
        "    parameters = '?serviceKey=' + ServiceKey   #인증키\n",
        "    parameters += '&pageNo=1&numOfRows=9999&zcode=' + z\n",
        "\n",
        "    detail_area_array_temp = df_area[df_area['zcode'] == int(z)]\n",
        "    detail_area_array = list(map(str, detail_area_array_temp['zscode'].to_numpy()))\n",
        "\n",
        "    for zs in detail_area_array:\n",
        "      parameters += '&zscode=' + zs\n",
        "      url = service_url + parameters\n",
        "\n",
        "      response = urllib.request.urlopen(url)\n",
        "      results = response.read().decode('utf-8')\n",
        "      results_to_json = xmltodict.parse(results)\n",
        "      data = json.loads(json.dumps(results_to_json))\n",
        "      total_data.extend(data['response']['body']['items']['item'])\n",
        "      parameters = parameters[:-13]\n",
        "      \n",
        "  df_total = pd.DataFrame(total_data)\n",
        "  df_total.to_csv('/content/drive/MyDrive/Colab Notebooks/total_data.csv')\n",
        "\n",
        "print(pd.read_csv('/content/drive/MyDrive/Colab Notebooks/total_data.csv').head())"
      ],
      "metadata": {
        "colab": {
          "base_uri": "https://localhost:8080/"
        },
        "id": "NNz7Rk5FhdfN",
        "outputId": "c75ad8fd-78b2-4dac-c717-f27c59deb81e"
      },
      "execution_count": 4,
      "outputs": [
        {
          "output_type": "stream",
          "name": "stdout",
          "text": [
            "        Unnamed: 0        statNm    statId  chgerId  chgerType  \\\n",
            "0                0          태화빌딩  ME174039        1          6   \n",
            "1                1  한국예술종합학교(종로)  ME174040        1          6   \n",
            "2                2      부암동 주민센터  ME18B169        1          6   \n",
            "3                3       서울역사박물관  ME18B288       11          4   \n",
            "4                4       서울역사박물관  ME18B288       12          4   \n",
            "...            ...           ...       ...      ...        ...   \n",
            "174842      174842        제주블루앤씨  TDO00071        1          2   \n",
            "174843      174843         카페이피엘  TDO10001        1          6   \n",
            "174844      174844         제주올레돔  TDO10004        1          5   \n",
            "174845      174845      서귀포시산림조합  TDO10005        1          5   \n",
            "174846      174846     대정맑은해수사우나  TDO10006        1          5   \n",
            "\n",
            "                                 addr   location        lat         lng  \\\n",
            "0                  서울특별시 종로구 인사동5길 29        NaN  37.571815  126.985044   \n",
            "1                  서울특별시 종로구 창경궁로 215        NaN  37.582432  126.997405   \n",
            "2                  서울특별시 종로구 창의문로 145        NaN  37.592460  126.964120   \n",
            "3                   서울특별시 종로구 새문안로 55        NaN  37.570050  126.970530   \n",
            "4                   서울특별시 종로구 새문안로 55        NaN  37.570050  126.970530   \n",
            "...                               ...        ...        ...         ...   \n",
            "174842   제주특별자치도 서귀포시 성산읍 서성일로 188-18      실외주차장  33.402781  126.814657   \n",
            "174843       제주특별자치도 서귀포시 남원읍 위미항구로 8  카페 주차장 입구  33.275208  126.657006   \n",
            "174844  제주특별자치도 서귀포시 성산읍 온평포구로54번길 54     입구 주차장  33.398345  126.898968   \n",
            "174845      제주특별자치도 서귀포시 중산간동로 8462-2      외부주차장  33.260635  126.512952   \n",
            "174846    제주특별자치도 서귀포시 대정읍 신영로36번길 57  입구 좌측 주차장  33.219713  126.248569   \n",
            "\n",
            "          useTime  ... zcode zscode kind kindDetail  parkingFree  note  \\\n",
            "0       24시간 이용가능  ...    11  11110   H0       H003            N   NaN   \n",
            "1       24시간 이용가능  ...    11  11110   J0       J001            N   NaN   \n",
            "2       24시간 이용가능  ...    11  11110   A0       A002            Y   NaN   \n",
            "3       24시간 이용가능  ...    11  11110   D0       D008            N   NaN   \n",
            "4       24시간 이용가능  ...    11  11110   D0       D008            N   NaN   \n",
            "...           ...  ...   ...    ...  ...        ...          ...   ...   \n",
            "174842  24시간 이용가능  ...    50  50130   G0       G004            Y   NaN   \n",
            "174843  24시간 이용가능  ...    50  50130   E0       E005            N   NaN   \n",
            "174844  24시간 이용가능  ...    50  50130   E0       E003            Y   NaN   \n",
            "174845  24시간 이용가능  ...    50  50130   A0       A004            N   NaN   \n",
            "174846  24시간 이용가능  ...    50  50130   G0       G004            Y   NaN   \n",
            "\n",
            "        limitYn  limitDetail  delYn  delDetail  \n",
            "0             N          NaN      N        NaN  \n",
            "1             N          NaN      N        NaN  \n",
            "2             N          NaN      N        NaN  \n",
            "3             N          NaN      N        NaN  \n",
            "4             N          NaN      N        NaN  \n",
            "...         ...          ...    ...        ...  \n",
            "174842        N          NaN      N        NaN  \n",
            "174843        N          NaN      N        NaN  \n",
            "174844        N          NaN      N        NaN  \n",
            "174845        N          NaN      N        NaN  \n",
            "174846        N          NaN      N        NaN  \n",
            "\n",
            "[174847 rows x 32 columns]\n"
          ]
        },
        {
          "output_type": "stream",
          "name": "stderr",
          "text": [
            "/usr/local/lib/python3.8/dist-packages/IPython/core/interactiveshell.py:3326: DtypeWarning: Columns (31) have mixed types.Specify dtype option on import or set low_memory=False.\n",
            "  exec(code_obj, self.user_global_ns, self.user_ns)\n"
          ]
        }
      ]
    },
    {
      "cell_type": "markdown",
      "source": [
        "**지도 Marker 찍는 함수**"
      ],
      "metadata": {
        "id": "sUHGuIOwiTvJ"
      }
    },
    {
      "cell_type": "code",
      "source": [
        "def marker(data, color, icon, map):\n",
        "  for name, addr, lat, lng, free, chtype in zip(data.statNm, data.addr, data.lat, data.lng, data.parkingFree, data.chgerType):\n",
        "    free_val = ''\n",
        "    if free == 'Y':\n",
        "      free_val = '무료'\n",
        "    else:\n",
        "      free_val = '유료'\n",
        "\n",
        "    chtype = int(chtype)\n",
        "    ch_array = ['DC 차데모', 'AC 완속', 'DC 차데모 + AC3 상', 'DC 콤보', 'DC 차데모 + DC 콤보', 'DC 차데모 + AC3 상 + DC 콤보', 'AC3 상', 'H2']\n",
        "    charger_type = ch_array[chtype - 1]\n",
        "\n",
        "    html = f'''\n",
        "            <h2>{name}</h2>\n",
        "            <p>주소 : {addr}</p>\n",
        "            <p>주차료 : {free_val}</p>\n",
        "            <p>충전기 타입 : {charger_type}</p>\n",
        "            '''\n",
        "    iframe = folium.IFrame(html, width=300, height=200)\n",
        "    popup = folium.Popup(iframe, max_width=400)\n",
        "    folium.Marker([lat, lng], popup=popup, tooltip=name, icon=folium.Icon(color, icon=icon, prefix='fa')).add_to(map)"
      ],
      "metadata": {
        "id": "n8SMSVDViQ-B"
      },
      "execution_count": 13,
      "outputs": []
    },
    {
      "cell_type": "code",
      "execution_count": 20,
      "metadata": {
        "id": "KGvwiCC85AgZ",
        "colab": {
          "base_uri": "https://localhost:8080/",
          "height": 1000
        },
        "outputId": "5f009e1f-4c37-4f0e-b3fb-170b873a25b5"
      },
      "outputs": [
        {
          "output_type": "stream",
          "name": "stdout",
          "text": [
            "지역 코드 및 지역 이름 데이터\n",
            "     zcode zcode_name\n",
            "0       11      서울특별시\n",
            "25      26      부산광역시\n",
            "41      27      대구광역시\n",
            "49      28      인천광역시\n",
            "59      29      광주광역시\n",
            "64      30      대전광역시\n",
            "69      31      울산광역시\n",
            "74      36        세종시\n",
            "75      41        경기도\n",
            "106     42        강원도\n",
            "124     43       충청북도\n",
            "135     44       충청남도\n",
            "150     45       전라북도\n",
            "164     46       전라남도\n",
            "186     47       경상북도\n",
            "209     48       경상남도\n",
            "227     50        제주도\n",
            "\n",
            "데이터에서 추출한 지역 이름 배열\n",
            "['서울특별시' '부산광역시' '대구광역시' '인천광역시' '광주광역시' '대전광역시' '울산광역시' '세종시' '경기도' '강원도'\n",
            " '충청북도' '충청남도' '전라북도' '전라남도' '경상북도' '경상남도' '제주도']\n",
            "\n",
            "지역 목록 : 서울특별시 부산광역시 대구광역시 인천광역시 광주광역시 대전광역시 울산광역시 세종시 경기도 강원도 충청북도 충청남도 전라북도 전라남도 경상북도 경상남도 제주도 지역 : 서울특별시\n",
            "\n",
            "zcode : 11\n",
            "\n",
            "서울특별시의 상세 지역 코드 및 상세 지역 이름 데이터\n",
            "    zcode zcode_name  zscode zscode_name\n",
            "0      11      서울특별시   11110         종로구\n",
            "1      11      서울특별시   11140          중구\n",
            "2      11      서울특별시   11170         용산구\n",
            "3      11      서울특별시   11200         성동구\n",
            "4      11      서울특별시   11215         광진구\n",
            "5      11      서울특별시   11230        동대문구\n",
            "6      11      서울특별시   11260         중랑구\n",
            "7      11      서울특별시   11290         성북구\n",
            "8      11      서울특별시   11305         강북구\n",
            "9      11      서울특별시   11320         도봉구\n",
            "10     11      서울특별시   11350         노원구\n",
            "11     11      서울특별시   11380         은평구\n",
            "12     11      서울특별시   11410        서대문구\n",
            "13     11      서울특별시   11440         마포구\n",
            "14     11      서울특별시   11470         양천구\n",
            "15     11      서울특별시   11500         강서구\n",
            "16     11      서울특별시   11530         구로구\n",
            "17     11      서울특별시   11545         금천구\n",
            "18     11      서울특별시   11560        영등포구\n",
            "19     11      서울특별시   11590         동작구\n",
            "20     11      서울특별시   11620         관악구\n",
            "21     11      서울특별시   11650         서초구\n",
            "22     11      서울특별시   11680         강남구\n",
            "23     11      서울특별시   11710         송파구\n",
            "24     11      서울특별시   11740         강동구\n",
            "\n",
            "데이터에서 추출한 서울특별시의 상세 지역 이름 배열\n",
            "['종로구' '중구' '용산구' '성동구' '광진구' '동대문구' '중랑구' '성북구' '강북구' '도봉구' '노원구' '은평구'\n",
            " '서대문구' '마포구' '양천구' '강서구' '구로구' '금천구' '영등포구' '동작구' '관악구' '서초구' '강남구' '송파구'\n",
            " '강동구']\n",
            "\n",
            "서울특별시 상세 지역 목록 : 종로구 중구 용산구 성동구 광진구 동대문구 중랑구 성북구 강북구 도봉구 노원구 은평구 서대문구 마포구 양천구 강서구 구로구 금천구 영등포구 동작구 관악구 서초구 강남구 송파구 강동구 상세 지역 : 종로구\n",
            "\n",
            "zscode : 11110\n",
            "\n",
            "불러온 데이터\n",
            "                 statNm    statId chgerId chgerType                  addr  \\\n",
            "0                  태화빌딩  ME174039      01        06    서울특별시 종로구 인사동5길 29   \n",
            "1          한국예술종합학교(종로)  ME174040      01        06    서울특별시 종로구 창경궁로 215   \n",
            "2              부암동 주민센터  ME18B169      01        06    서울특별시 종로구 창의문로 145   \n",
            "3               서울역사박물관  ME18B288      11        04     서울특별시 종로구 새문안로 55   \n",
            "4               서울역사박물관  ME18B288      12        04     서울특별시 종로구 새문안로 55   \n",
            "..                  ...       ...     ...       ...                   ...   \n",
            "683  워터 전기차충전소(서울 광화문점)  ST111108      08        02     서울특별시 종로구 종로1길 50   \n",
            "684  워터 전기차충전소(서울 광화문점)  ST111108      09        02     서울특별시 종로구 종로1길 50   \n",
            "685  워터 전기차충전소(서울 광화문점)  ST111108      10        02     서울특별시 종로구 종로1길 50   \n",
            "686             한국생산성본부  TDA00022      01        02  서울특별시 종로구 새문안로5가길 32   \n",
            "687             한국생산성본부  TDA00022      02        02  서울특별시 종로구 새문안로5가길 32   \n",
            "\n",
            "       location          lat           lng    useTime busiId  ... zcode  \\\n",
            "0          null   37.5718148   126.9850443  24시간 이용가능     ME  ...    11   \n",
            "1          null   37.5824318   126.9974047  24시간 이용가능     ME  ...    11   \n",
            "2          null     37.59246     126.96412  24시간 이용가능     ME  ...    11   \n",
            "3          null     37.57005     126.97053  24시간 이용가능     ME  ...    11   \n",
            "4          null     37.57005     126.97053  24시간 이용가능     ME  ...    11   \n",
            "..          ...          ...           ...        ...    ...  ...   ...   \n",
            "683  지하 4층 B2블럭  37.57491239  126.97896535  24시간 이용가능     ST  ...    11   \n",
            "684  지하 4층 B2블럭  37.57491239  126.97896535  24시간 이용가능     ST  ...    11   \n",
            "685  지하 4층 B2블럭  37.57491239  126.97896535  24시간 이용가능     ST  ...    11   \n",
            "686    지하4층 주차장   37.5749071   126.9735469  24시간 이용가능     TD  ...    11   \n",
            "687    지하4층 주차장   37.5749071   126.9735469  24시간 이용가능     TD  ...    11   \n",
            "\n",
            "    zscode kind kindDetail parkingFree  note limitYn limitDetail delYn  \\\n",
            "0    11110   H0       H003           N  None       N        None     N   \n",
            "1    11110   J0       J001           N  None       N        None     N   \n",
            "2    11110   A0       A002           Y  None       N        None     N   \n",
            "3    11110   D0       D008           N  None       N        None     N   \n",
            "4    11110   D0       D008           N  None       N        None     N   \n",
            "..     ...  ...        ...         ...   ...     ...         ...   ...   \n",
            "683  11110   B0       B004           N  None       N        None     N   \n",
            "684  11110   B0       B004           N  None       N        None     N   \n",
            "685  11110   B0       B004           N  None       N        None     N   \n",
            "686  11110   J0       J002           Y  None       N        None     N   \n",
            "687  11110   J0       J002           Y  None       N        None     N   \n",
            "\n",
            "    delDetail  \n",
            "0        None  \n",
            "1        None  \n",
            "2        None  \n",
            "3        None  \n",
            "4        None  \n",
            "..        ...  \n",
            "683      None  \n",
            "684      None  \n",
            "685      None  \n",
            "686      None  \n",
            "687      None  \n",
            "\n",
            "[688 rows x 31 columns]\n",
            "서울특별시 종로구 충전소 현황이 완성되었습니다.\n",
            "\n"
          ]
        },
        {
          "output_type": "display_data",
          "data": {
            "text/plain": [
              "<Figure size 432x288 with 1 Axes>"
            ],
            "image/png": "[encoded data removed]"
          },
          "metadata": {
            "needs_background": "light"
          }
        }
      ],
      "source": [
        "def main():\n",
        "  # 지역 코드\n",
        "  area_array_temp = df_area.drop_duplicates(['zcode']).iloc[:,[0,1]]\n",
        "  area_array = area_array_temp['zcode_name'].to_numpy()\n",
        "\n",
        "  print('지역 코드 및 지역 이름 데이터')\n",
        "  print(area_array_temp)\n",
        "  print()\n",
        "  print('데이터에서 추출한 지역 이름 배열')\n",
        "  print(area_array)\n",
        "  print()\n",
        "\n",
        "  print('지역 목록 :', end=' ')\n",
        "  for a in area_array:\n",
        "    print(a, end=' ')\n",
        "  zcode_temp = input('지역 : ')\n",
        "  if zcode_temp not in area_array:\n",
        "    print('올바른 지역이 아닙니다.')\n",
        "    return\n",
        "  zcode = str(area_array_temp[area_array_temp['zcode_name'] == zcode_temp].iat[0,0])\n",
        "\n",
        "  print()\n",
        "  print('zcode : ' + zcode)\n",
        "  print()\n",
        "\n",
        "  if zcode_temp == '세종시':\n",
        "    zscode = '36110'\n",
        "    zscode_temp = ''\n",
        "  else:\n",
        "    # 상세 지역 코드\n",
        "    detail_area_array_temp = df_area[df_area['zcode_name'] == zcode_temp]\n",
        "    detail_area_array = detail_area_array_temp['zscode_name'].to_numpy()\n",
        "\n",
        "    print('{0}의 상세 지역 코드 및 상세 지역 이름 데이터'.format(zcode_temp))\n",
        "    print(detail_area_array_temp)\n",
        "    print()\n",
        "    print('데이터에서 추출한 {0}의 상세 지역 이름 배열'.format(zcode_temp))\n",
        "    print(detail_area_array)\n",
        "    print()\n",
        "  \n",
        "    print(zcode_temp + ' 상세 지역 목록 :', end=' ')\n",
        "    for a in detail_area_array:\n",
        "      print(a, end=' ')\n",
        "    zscode_temp = input('상세 지역 : ')\n",
        "    if zscode_temp not in detail_area_array:\n",
        "      print('올바른 상세 지역이 아닙니다.')\n",
        "      return\n",
        "    zscode = str(detail_area_array_temp[detail_area_array_temp['zscode_name'] == zscode_temp].iat[0,2])\n",
        "\n",
        "  print()\n",
        "  print('zscode : ' + zscode)\n",
        "  print()\n",
        "\n",
        "  # 데이터 불러오기\n",
        "  data = getData(zcode, zscode)\n",
        "\n",
        "  print('불러온 데이터')\n",
        "  print(data)\n",
        "  \n",
        "  data_avail = data[data['stat'] == '2']\n",
        "  data_using = data[data['stat'] == '3']\n",
        "\n",
        "  smap = folium.Map(location=[37.4493812, 126.6573386], zoom_start=10, tiles='Stamen Terrain')\n",
        "\n",
        "  geo='/content/drive/MyDrive/Colab Notebooks/GeoJSON/' + zcode_temp + '.json'\n",
        "  total_data_temp = pd.read_csv('/content/drive/MyDrive/Colab Notebooks/total_data.csv', low_memory=False)\n",
        "  total_data = total_data_temp[total_data_temp['zcode'] == int(zcode)].groupby('zscode', as_index=False).count()\n",
        "  total_data['zscode'] = total_data['zscode'].astype(str)\n",
        "\n",
        "  marker(data_avail, 'green', 'check', smap)\n",
        "  marker(data_using, 'red', 'times', smap)\n",
        "  folium.Choropleth(geo_data=geo, data=total_data, columns=['zscode','lat'], fill_color='YlOrRd', fill_opacity=0.7, line_opacity=0.3,\n",
        "                    threshold_scale=[0, 500, 1000, 1500, 2000, 2500, 3000, 3500, 4000, 4500, 5000], key_on='feature.properties.COL_ADM_SE').add_to(smap)\n",
        "  \n",
        "  smap.save('/content/' + zcode_temp + '_' + zscode_temp + '_충전소_현황.html')\n",
        "  print('{0} {1} 충전소 현황이 완성되었습니다.'.format(zcode_temp, zscode_temp))\n",
        "  print()\n",
        "  ax = sns.countplot(data=data, x='kind', order=['A0','B0','C0','D0','E0','F0','G0','H0'])\n",
        "  ax.set_title('{0} {1} 충전소 시설 분포'.format(zcode_temp, zscode_temp))\n",
        "  ax.set_xlabel('시설 분류')\n",
        "  ax.set_ylabel('개수')\n",
        "  ax.set_xticklabels(labels=['공공시설', '주차시설', '휴게시설', '관광시설', '상업시설', '차량정비시설', '기타시설', '공동주택시설'], rotation=45)\n",
        "  \n",
        "\n",
        "if __name__ == '__main__':\n",
        "  main()"
      ]
    }
  ]
}