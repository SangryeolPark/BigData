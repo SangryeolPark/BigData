{
  "nbformat": 4,
  "nbformat_minor": 0,
  "metadata": {
    "colab": {
      "provenance": []
    },
    "kernelspec": {
      "name": "python3",
      "display_name": "Python 3"
    },
    "language_info": {
      "name": "python"
    }
  },
  "cells": [
    {
      "cell_type": "code",
      "source": [
        "! pip install xmltodict"
      ],
      "metadata": {
        "colab": {
          "base_uri": "https://localhost:8080/"
        },
        "id": "neuRRftc-qh0",
        "outputId": "dde40bda-73ac-49e0-af6d-a562312b8f34"
      },
      "execution_count": null,
      "outputs": [
        {
          "output_type": "stream",
          "name": "stdout",
          "text": [
            "Looking in indexes: https://pypi.org/simple, https://us-python.pkg.dev/colab-wheels/public/simple/\n",
            "Collecting xmltodict\n",
            "  Downloading xmltodict-0.13.0-py2.py3-none-any.whl (10.0 kB)\n",
            "Installing collected packages: xmltodict\n",
            "Successfully installed xmltodict-0.13.0\n"
          ]
        }
      ]
    },
    {
      "cell_type": "code",
      "source": [
        "# 폰트 설치\n",
        "import matplotlib.font_manager as fm\n",
        "\n",
        "!apt-get -qq -y install fonts-nanum > /dev/null\n",
        "fontpath = '/usr/share/fonts/truetype/nanum/NanumBarunGothic.ttf'\n",
        "font = fm.FontProperties(fname=fontpath, size=9)\n",
        "fm._rebuild()"
      ],
      "metadata": {
        "id": "bNtFaoOQpbO9"
      },
      "execution_count": null,
      "outputs": []
    },
    {
      "cell_type": "code",
      "source": [
        "# 런타임 재시작\n",
        "import os\n",
        "os.kill(os.getpid(), 9)"
      ],
      "metadata": {
        "id": "OXIEDg2PpdzO"
      },
      "execution_count": null,
      "outputs": []
    },
    {
      "cell_type": "code",
      "source": [
        "# 한글 폰트 설정\n",
        "import matplotlib.pyplot as plt\n",
        "import matplotlib.font_manager as fm\n",
        "\t\n",
        "# 한글 폰트 설정\n",
        "path = '/usr/share/fonts/truetype/nanum/NanumGothicBold.ttf'\n",
        "font_name = fm.FontProperties(fname=path, size=18).get_name()\n",
        "plt.rc('font', family=font_name)\n",
        "fm._rebuild()"
      ],
      "metadata": {
        "id": "jUTnenw2pgwy"
      },
      "execution_count": null,
      "outputs": []
    },
    {
      "cell_type": "code",
      "execution_count": null,
      "metadata": {
        "id": "KGvwiCC85AgZ",
        "colab": {
          "base_uri": "https://localhost:8080/",
          "height": 424
        },
        "outputId": "cdb35a46-7b31-477e-e8c2-2200b4b86de3"
      },
      "outputs": [
        {
          "output_type": "stream",
          "name": "stdout",
          "text": [
            "지역 목록 : 서울특별시 부산광역시 대구광역시 인천광역시 광주광역시 대전광역시 울산광역시 세종시 경기도 강원도 충청북도 충청남도 전라북도 전라남도 경상북도 경상남도 제주도 지역 : 서울특별시\n",
            "서울특별시 상세 지역 목록 : 종로구 중구 용산구 성동구 광진구 동대문구 중랑구 성북구 강북구 도봉구 노원구 은평구 서대문구 마포구 양천구 강서구 구로구 금천구 영등포구 동작구 관악구 서초구 강남구 송파구 강동구 상세 지역 : 종로구\n",
            "서울특별시 종로구 충전소 현황이 완성되었습니다.\n",
            "\n"
          ]
        },
        {
          "output_type": "display_data",
          "data": {
            "text/plain": [
              "<Figure size 432x288 with 1 Axes>"
            ],
            "image/png": "[encoded data removed]"
          },
          "metadata": {
            "needs_background": "light"
          }
        }
      ],
      "source": [
        "import os\n",
        "import sys\n",
        "import urllib.request\n",
        "import xmltodict\n",
        "import datetime\n",
        "import time\n",
        "import json\n",
        "import pandas as pd\n",
        "import ssl\n",
        "import folium\n",
        "import seaborn as sns\n",
        "import matplotlib.pyplot as plt\n",
        "\n",
        "ssl._create_default_https_context = ssl._create_unverified_context\n",
        "\n",
        "ServiceKey=\"5wUibcgyMHJ%2FNqYkVWaxunMQSIZ6tONQ8EJ55I47cV86EUNASc5g3X9dF1Bzr5SqqfprwYvMEnhnHlZ8hwpctQ%3D%3D\"\n",
        "\n",
        "df_area = pd.read_excel(io='/content/drive/MyDrive/Colab Notebooks/법정동코드.xlsx', header=None, names=['zcode','zcode_name','zscode','zscode_name'])\n",
        "\n",
        "def getData(zcode, zscode):\n",
        "  total_data = []\n",
        "  service_url = 'https://apis.data.go.kr/B552584/EvCharger/getChargerInfo'\n",
        "  parameters = '?serviceKey=' + ServiceKey   #인증키\n",
        "  parameters += '&pageNo=1&numOfRows=9999&zcode=' + zcode\n",
        "  parameters += '&zscode=' + zscode\n",
        "  url = service_url + parameters\n",
        "\n",
        "  response = urllib.request.urlopen(url)\n",
        "  results = response.read().decode('utf-8')\n",
        "  results_to_json = xmltodict.parse(results)\n",
        "  data = json.loads(json.dumps(results_to_json))\n",
        "  total_data.extend(data['response']['body']['items']['item'])\n",
        "\n",
        "  df_total_temp = pd.DataFrame(total_data)\n",
        "  df_total = df_total_temp\n",
        "\n",
        "  return df_total\n",
        "\n",
        "def getTotalData():\n",
        "  total_data = []\n",
        "  area_array_temp = df_area.drop_duplicates(['zcode'])\n",
        "  area_array = list(map(str, area_array_temp['zcode'].to_numpy()))\n",
        "\n",
        "  for z in area_array:\n",
        "    service_url = 'https://apis.data.go.kr/B552584/EvCharger/getChargerInfo'\n",
        "    parameters = '?serviceKey=' + ServiceKey   #인증키\n",
        "    parameters += '&pageNo=1&numOfRows=9999&zcode=' + z\n",
        "\n",
        "    detail_area_array_temp = df_area[df_area['zcode'] == int(z)]\n",
        "    detail_area_array = list(map(str, detail_area_array_temp['zscode'].to_numpy()))\n",
        "\n",
        "    for zs in detail_area_array:\n",
        "      parameters += '&zscode=' + zs\n",
        "      url = service_url + parameters\n",
        "\n",
        "      response = urllib.request.urlopen(url)\n",
        "      results = response.read().decode('utf-8')\n",
        "      results_to_json = xmltodict.parse(results)\n",
        "      data = json.loads(json.dumps(results_to_json))\n",
        "      total_data.extend(data['response']['body']['items']['item'])\n",
        "      parameters = parameters[:-13]\n",
        "      \n",
        "  df_total = pd.DataFrame(total_data)\n",
        "  df_total.to_csv('/content/total_data.csv')\n",
        "\n",
        "def marker(data, color, icon, map):\n",
        "  for name, addr, lat, lng, free, chtype in zip(data.statNm, data.addr, data.lat, data.lng, data.parkingFree, data.chgerType):\n",
        "    free_val = ''\n",
        "    if free == 'Y':\n",
        "      free_val = '무료'\n",
        "    else:\n",
        "      free_val = '유료'\n",
        "\n",
        "    chtype = int(chtype)\n",
        "    ch_array = ['DC 차데모', 'AC 완속', 'DC 차데모 + AC3 상', 'DC 콤보', 'DC 차데모 + DC 콤보', 'DC 차데모 + AC3 상 + DC 콤보', 'AC3 상', 'H2']\n",
        "    charger_type = ch_array[chtype - 1]\n",
        "\n",
        "    html = f'''\n",
        "            <h2>{name}</h2>\n",
        "            <p>주소 : {addr}</p>\n",
        "            <p>주차료 : {free_val}</p>\n",
        "            <p>충전기 타입 : {charger_type}</p>\n",
        "            '''\n",
        "    iframe = folium.IFrame(html, width=300, height=200)\n",
        "    popup = folium.Popup(iframe, max_width=400)\n",
        "    folium.Marker([lat, lng], popup=popup, tooltip=name, icon=folium.Icon(color, icon=icon, prefix='fa')).add_to(map)\n",
        "\n",
        "\n",
        "def main():\n",
        "  # 지역 코드\n",
        "  area_array_temp = df_area.drop_duplicates(['zcode'])\n",
        "  area_array = area_array_temp['zcode_name'].to_numpy()\n",
        "  print('지역 목록 :', end=' ')\n",
        "  for a in area_array:\n",
        "    print(a, end=' ')\n",
        "  zcode_temp = input('지역 : ')\n",
        "  if zcode_temp not in area_array:\n",
        "    print('올바른 지역이 아닙니다.')\n",
        "    return\n",
        "  zcode = str(area_array_temp[area_array_temp['zcode_name'] == zcode_temp].iat[0,0])\n",
        "\n",
        "  if zcode_temp == '세종시':\n",
        "    zscode = '36110'\n",
        "    zscode_temp = ''\n",
        "  else:\n",
        "    # 상세 지역 코드\n",
        "    detail_area_array_temp = df_area[df_area['zcode_name'] == zcode_temp]\n",
        "    detail_area_array = detail_area_array_temp['zscode_name'].to_numpy()\n",
        "  \n",
        "    print(zcode_temp + ' 상세 지역 목록 :', end=' ')\n",
        "    for a in detail_area_array:\n",
        "      print(a, end=' ')\n",
        "    zscode_temp = input('상세 지역 : ')\n",
        "    if zscode_temp not in detail_area_array:\n",
        "      print('올바른 상세 지역이 아닙니다.')\n",
        "      return\n",
        "    zscode = str(detail_area_array_temp[detail_area_array_temp['zscode_name'] == zscode_temp].iat[0,2])\n",
        "\n",
        "  # 데이터 불러오기\n",
        "  data = getData(zcode, zscode)\n",
        "  \n",
        "  data_avail = data[data['stat'] == '2']\n",
        "  data_using = data[data['stat'] == '3']\n",
        "\n",
        "  smap = folium.Map(location=[37.4493812, 126.6573386], zoom_start=10, tiles='Stamen Terrain')\n",
        "\n",
        "  geo='/content/drive/MyDrive/Colab Notebooks/GeoJSON/' + zcode_temp + '.json'\n",
        "  total_data_temp = pd.read_csv('/content/drive/MyDrive/Colab Notebooks/total_data.csv', low_memory=False)\n",
        "  total_data = total_data_temp[total_data_temp['zcode'] == int(zcode)].groupby('zscode', as_index=False).count()\n",
        "  total_data['zscode'] = total_data['zscode'].astype(str)\n",
        "\n",
        "  marker(data_avail, 'green', 'check', smap)\n",
        "  marker(data_using, 'red', 'times', smap)\n",
        "  folium.Choropleth(geo_data=geo, data=total_data, columns=['zscode','lat'], fill_color='YlOrRd', fill_opacity=0.7, line_opacity=0.3,\n",
        "                    threshold_scale=[0, 500, 1000, 1500, 2000, 2500, 3000, 3500, 4000, 4500, 5000], key_on='feature.properties.COL_ADM_SE').add_to(smap)\n",
        "  \n",
        "  smap.save('/content/' + zcode_temp + '_' + zscode_temp + '_충전소_현황.html')\n",
        "  print('{0} {1} 충전소 현황이 완성되었습니다.'.format(zcode_temp, zscode_temp))\n",
        "  print()\n",
        "  ax = sns.countplot(data=data, x='kind', order=['A0','B0','C0','D0','E0','F0','G0','H0'])\n",
        "  ax.set_title('{0} {1} 충전소 시설 분포'.format(zcode_temp, zscode_temp))\n",
        "  ax.set_xlabel('시설 분류')\n",
        "  ax.set_ylabel('개수')\n",
        "  ax.set_xticklabels(labels=['공공시설', '주차시설', '휴게시설', '관광시설', '상업시설', '차량정비시설', '기타시설', '공동주택시설'], rotation=45)\n",
        "  \n",
        "\n",
        "if __name__ == '__main__':\n",
        "  main()"
      ]
    }
  ]
}